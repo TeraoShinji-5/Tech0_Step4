{
 "cells": [
  {
   "cell_type": "markdown",
   "id": "32d3c2be",
   "metadata": {},
   "source": [
    "# "
   ]
  },
  {
   "cell_type": "markdown",
   "id": "43439f3b",
   "metadata": {},
   "source": [
    "■APIを利用して効率化やマネタイズができないか（大谷翔平○○人分）\n",
    "Suzuki Yuya-7/すずゆう/鈴木湧也"
   ]
  },
  {
   "cell_type": "markdown",
   "id": "12548138",
   "metadata": {},
   "source": [
    "## Flask"
   ]
  },
  {
   "cell_type": "markdown",
   "id": "f7558562",
   "metadata": {},
   "source": [
    "サーバー設定"
   ]
  },
  {
   "cell_type": "code",
   "execution_count": null,
   "id": "ab098a44",
   "metadata": {},
   "outputs": [],
   "source": [
    "# Windows: Powercell\n",
    "$env:FLASK_APP =  \"app_Flask.py\"       #\"app.py\"の部分はFlaskのpythonファイル名に変更\n",
    "flask run --port 5001                     #今回は5001 portを使用"
   ]
  },
  {
   "cell_type": "code",
   "execution_count": null,
   "id": "f0638c28",
   "metadata": {},
   "outputs": [],
   "source": [
    "# Mac : ターミナル\n",
    "export FLASK_APP = app_Flask.py    #app.py の部分はFlaskのpythonファイル名に変更\n",
    "flask run --port 5001                #今回は5001 portを使用"
   ]
  },
  {
   "cell_type": "markdown",
   "id": "ccf8ef43",
   "metadata": {},
   "source": [
    "実行"
   ]
  },
  {
   "cell_type": "code",
   "execution_count": 1,
   "id": "150c68cd",
   "metadata": {},
   "outputs": [],
   "source": [
    "##End pointの設定　  -    port + \"/double\"\n",
    "Flask_url = 'http://127.0.0.1:5001/otanisann'     # Flask / port 5001"
   ]
  },
  {
   "cell_type": "code",
   "execution_count": 2,
   "id": "45c8ba9d",
   "metadata": {},
   "outputs": [],
   "source": [
    "body = {\n",
    "    \"altitude\" : 990   #我が家の標高990m←標高APIにリクエストして格納すべき\n",
    "}"
   ]
  },
  {
   "cell_type": "code",
   "execution_count": 5,
   "id": "d462adcc",
   "metadata": {},
   "outputs": [],
   "source": [
    "import requests\n",
    "res_flask = requests.post(Flask_url,json = body)  #Endpointは\"Flask_url\"を指定"
   ]
  },
  {
   "cell_type": "code",
   "execution_count": 6,
   "id": "526daa4c",
   "metadata": {},
   "outputs": [
    {
     "data": {
      "text/plain": [
       "<Response [200]>"
      ]
     },
     "execution_count": 6,
     "metadata": {},
     "output_type": "execute_result"
    }
   ],
   "source": [
    "res_flask"
   ]
  },
  {
   "cell_type": "code",
   "execution_count": 7,
   "id": "128d761a",
   "metadata": {},
   "outputs": [],
   "source": [
    "number = res_flask.json()['result']"
   ]
  },
  {
   "cell_type": "code",
   "execution_count": 8,
   "id": "9cf3e777",
   "metadata": {},
   "outputs": [
    {
     "name": "stdout",
     "output_type": "stream",
     "text": [
      "大谷翔平503人分\n"
     ]
    }
   ],
   "source": [
    "print(\"大谷翔平\" + str(number)  + \"人分\")"
   ]
  },
  {
   "cell_type": "markdown",
   "id": "47998318",
   "metadata": {},
   "source": [
    "## FatAPI"
   ]
  },
  {
   "cell_type": "markdown",
   "id": "11521525",
   "metadata": {},
   "source": [
    "サーバー設定"
   ]
  },
  {
   "cell_type": "code",
   "execution_count": null,
   "id": "136a3004",
   "metadata": {},
   "outputs": [],
   "source": [
    "# Windows, Macほぼ共通\n",
    "uvicorn app_FastAPI:app --reload --port 8001      #\"main.py\"の場合のPrompt。\"main\"部分に作成したpythonファイル名(.pyは除く)を代替"
   ]
  },
  {
   "cell_type": "markdown",
   "id": "24d5b2e1",
   "metadata": {},
   "source": [
    "実行"
   ]
  },
  {
   "cell_type": "code",
   "execution_count": 9,
   "id": "423a78fa",
   "metadata": {},
   "outputs": [],
   "source": [
    "body = {\n",
    "    \"altitude\" : 990   #我が家の標高990m←標高APIにリクエストして格納すべき\n",
    "}"
   ]
  },
  {
   "cell_type": "code",
   "execution_count": 10,
   "id": "9d4e2ed7",
   "metadata": {},
   "outputs": [],
   "source": [
    "##End pointの設定　  -    port + \"//otanisann\"\n",
    "FastAPI_url = 'http://127.0.0.1:8001/otanisann'  # FastAPI /  port 8001"
   ]
  },
  {
   "cell_type": "code",
   "execution_count": 11,
   "id": "5c475ab2",
   "metadata": {},
   "outputs": [],
   "source": [
    "import requests\n",
    "res_fastapi = requests.post(FastAPI_url,json = body)  #Endpointは\"FastAPI_url\"を指定"
   ]
  },
  {
   "cell_type": "code",
   "execution_count": 12,
   "id": "30ee2ec2",
   "metadata": {},
   "outputs": [
    {
     "data": {
      "text/plain": [
       "<Response [200]>"
      ]
     },
     "execution_count": 12,
     "metadata": {},
     "output_type": "execute_result"
    }
   ],
   "source": [
    "res_fastapi"
   ]
  },
  {
   "cell_type": "code",
   "execution_count": 13,
   "id": "6ac4b565",
   "metadata": {},
   "outputs": [],
   "source": [
    "number_fasapi = res_fastapi.json()['result']"
   ]
  },
  {
   "cell_type": "code",
   "execution_count": 14,
   "id": "e926bef0",
   "metadata": {},
   "outputs": [
    {
     "name": "stdout",
     "output_type": "stream",
     "text": [
      "大谷翔平503人分\n"
     ]
    }
   ],
   "source": [
    "print(\"大谷翔平\" + str(number_fasapi)  + \"人分\")"
   ]
  }
 ],
 "metadata": {
  "kernelspec": {
   "display_name": "Python 3 (ipykernel)",
   "language": "python",
   "name": "python3"
  },
  "language_info": {
   "codemirror_mode": {
    "name": "ipython",
    "version": 3
   },
   "file_extension": ".py",
   "mimetype": "text/x-python",
   "name": "python",
   "nbconvert_exporter": "python",
   "pygments_lexer": "ipython3",
   "version": "3.11.3"
  }
 },
 "nbformat": 4,
 "nbformat_minor": 5
}
