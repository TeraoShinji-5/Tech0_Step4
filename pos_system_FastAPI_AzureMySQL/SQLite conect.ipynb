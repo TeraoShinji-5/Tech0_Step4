{
 "cells": [
  {
   "cell_type": "code",
   "execution_count": 1,
   "metadata": {},
   "outputs": [
    {
     "name": "stdout",
     "output_type": "stream",
     "text": [
      "Requirement already satisfied: SQLAlchemy in c:\\users\\zip-b\\appdata\\local\\programs\\python\\python311\\lib\\site-packages (2.0.23)\n",
      "Requirement already satisfied: typing-extensions>=4.2.0 in c:\\users\\zip-b\\appdata\\local\\programs\\python\\python311\\lib\\site-packages (from SQLAlchemy) (4.9.0)\n",
      "Requirement already satisfied: greenlet!=0.4.17 in c:\\users\\zip-b\\appdata\\local\\programs\\python\\python311\\lib\\site-packages (from SQLAlchemy) (3.0.2)\n",
      "Note: you may need to restart the kernel to use updated packages.\n"
     ]
    }
   ],
   "source": [
    "pip install SQLAlchemy"
   ]
  },
  {
   "cell_type": "code",
   "execution_count": 1,
   "metadata": {},
   "outputs": [
    {
     "name": "stdout",
     "output_type": "stream",
     "text": [
      "2.0.23\n"
     ]
    }
   ],
   "source": [
    "import sqlalchemy\n",
    "print(sqlalchemy.__version__)"
   ]
  },
  {
   "cell_type": "markdown",
   "metadata": {},
   "source": [
    "DBデータ取得"
   ]
  },
  {
   "cell_type": "code",
   "execution_count": 2,
   "metadata": {},
   "outputs": [
    {
     "name": "stdout",
     "output_type": "stream",
     "text": [
      "[\n",
      "    {\n",
      "        \"product_id\": 1,\n",
      "        \"product_name\": \"うまい棒\",\n",
      "        \"price\": 10,\n",
      "        \"product_qrcode\": null,\n",
      "        \"last_update\": \"2024-01-23 19:52:08.601360\"\n",
      "    },\n",
      "    {\n",
      "        \"product_id\": 2,\n",
      "        \"product_name\": \"花串カステラ\",\n",
      "        \"price\": 30,\n",
      "        \"product_qrcode\": null,\n",
      "        \"last_update\": \"2024-01-23 19:52:08.601360\"\n",
      "    }\n",
      "]\n"
     ]
    }
   ],
   "source": [
    "import json\n",
    "from sqlalchemy import create_engine, text\n",
    "\n",
    "# データベースエンジンの作成\n",
    "engine = create_engine('sqlite:///POS_System.db')   #///以降に各自Cheers_DB.dbの置いた場所を設定下さい！\n",
    "connection = engine.connect()\n",
    "\n",
    "# SQLクエリの実行\n",
    "result = connection.execute(text(\"SELECT * FROM products\"))\n",
    "\n",
    "# 結果を辞書のリストとして取得\n",
    "rows = [{column: value for column, value in zip(result.keys(), row)} for row in result]\n",
    "\n",
    "# JSON形式に変換（非ASCII文字をエスケープしない）\n",
    "json_result = json.dumps(rows, ensure_ascii=False, indent=4)\n",
    "\n",
    "# JSON形式の結果を出力\n",
    "print(json_result)\n",
    "\n",
    "# コネクションのクローズ\n",
    "connection.close()\n",
    "\n",
    "\n",
    "\n"
   ]
  },
  {
   "cell_type": "markdown",
   "metadata": {},
   "source": []
  },
  {
   "cell_type": "markdown",
   "metadata": {},
   "source": [
    "products Tableにデータ追加"
   ]
  },
  {
   "cell_type": "code",
   "execution_count": 5,
   "metadata": {},
   "outputs": [
    {
     "name": "stdout",
     "output_type": "stream",
     "text": [
      "データの挿入に成功しました。\n"
     ]
    }
   ],
   "source": [
    "from sqlalchemy import create_engine, text\n",
    "from datetime import datetime\n",
    "\n",
    "now = datetime.now()\n",
    "\n",
    "# データベースエンジンの作成\n",
    "engine = create_engine('sqlite:///POS_System.db')\n",
    "\n",
    "# データベースに接続\n",
    "with engine.connect() as connection:\n",
    "    # トランザクションの開始\n",
    "    trans = connection.begin()\n",
    "\n",
    "    try:\n",
    "        # データの挿入\n",
    "        connection.execute(text(\"\"\"\n",
    "            INSERT INTO products (\n",
    "                product_id,\n",
    "                product_name,\n",
    "                price,\n",
    "                product_qrcode,\n",
    "                last_update\n",
    "            ) VALUES (\n",
    "                :product_id,\n",
    "                :product_name,\n",
    "                :price,\n",
    "                :product_qrcode,\n",
    "                :last_update\n",
    "            )\"\"\"),\n",
    "\n",
    "            [\n",
    "            {\"product_id\": 7,\n",
    "            \"product_name\": \"チロルチョコ\",\n",
    "            \"price\": 20,\n",
    "            \"product_qrcode\": 7,\n",
    "            \"last_update\": now\n",
    "            },\n",
    "            {\"product_id\": 8,\n",
    "            \"product_name\": \"イカの姿フライ\",\n",
    "            \"price\": 50,\n",
    "            \"product_qrcode\": 8,\n",
    "            \"last_update\": now\n",
    "            },\n",
    "            {\"product_id\": 9,\n",
    "            \"product_name\": \"やまとの味カレー\",\n",
    "            \"price\": 40,\n",
    "            \"product_qrcode\": 9,\n",
    "            \"last_update\": now\n",
    "            },\n",
    "            {\"product_id\": 10,\n",
    "            \"product_name\": \"東豊製菓のポテトフライ\",\n",
    "            \"price\": 30,\n",
    "            \"product_qrcode\": 10,\n",
    "            \"last_update\": now\n",
    "            },\n",
    "            \n",
    "            ]\n",
    "        )\n",
    "\n",
    "        # トランザクションのコミット\n",
    "        trans.commit()\n",
    "        print(\"データの挿入に成功しました。\")\n",
    "    except Exception as e:\n",
    "        # 何か問題が発生した場合、トランザクションをロールバック\n",
    "        trans.rollback()\n",
    "        print(f\"エラーが発生しました: {e}\")"
   ]
  },
  {
   "cell_type": "markdown",
   "metadata": {},
   "source": [
    "user Tableにデータ追加"
   ]
  },
  {
   "cell_type": "code",
   "execution_count": 8,
   "metadata": {},
   "outputs": [
    {
     "name": "stdout",
     "output_type": "stream",
     "text": [
      "データの挿入に成功しました。\n"
     ]
    }
   ],
   "source": [
    "\n",
    "from sqlalchemy import create_engine, text\n",
    "from datetime import datetime\n",
    "\n",
    "now = datetime.now()\n",
    "\n",
    "# データベースエンジンの作成\n",
    "engine = create_engine('sqlite:///POS_System.db')\n",
    "\n",
    "# データベースに接続\n",
    "with engine.connect() as connection:\n",
    "    # トランザクションの開始\n",
    "    trans = connection.begin()\n",
    "\n",
    "    try:\n",
    "        # データの挿入\n",
    "        connection.execute(text(\"\"\"\n",
    "            INSERT INTO users (\n",
    "                user_id,\n",
    "                user_name,\n",
    "                birthplace,\n",
    "                password,\n",
    "                token,\n",
    "                last_update\n",
    "            ) VALUES (\n",
    "                :user_id,\n",
    "                :user_name,\n",
    "                :birthplace,\n",
    "                :password,\n",
    "                :token,\n",
    "                :last_update\n",
    "            )\"\"\"),\n",
    "\n",
    "            [\n",
    "            {\"user_id\": 8,\n",
    "            \"user_name\": \"馬場YUKO\",\n",
    "            \"birthplace\": \"兵庫県\",\n",
    "            \"password\" : 8,\n",
    "            \"token\":\"\",\n",
    "            \"last_update\": now\n",
    "            }\n",
    "            ]\n",
    "        )\n",
    "\n",
    "        # トランザクションのコミット\n",
    "        trans.commit()\n",
    "        print(\"データの挿入に成功しました。\")\n",
    "    except Exception as e:\n",
    "        # 何か問題が発生した場合、トランザクションをロールバック\n",
    "        trans.rollback()\n",
    "        print(f\"エラーが発生しました: {e}\")"
   ]
  },
  {
   "cell_type": "markdown",
   "metadata": {},
   "source": [
    "JupyterLabでFlaskの出力を確認する方法"
   ]
  },
  {
   "cell_type": "code",
   "execution_count": 9,
   "metadata": {},
   "outputs": [
    {
     "data": {
      "text/plain": [
       "<Response [200]>"
      ]
     },
     "execution_count": 9,
     "metadata": {},
     "output_type": "execute_result"
    }
   ],
   "source": [
    "import requests\n",
    "requests.get(\"http://127.0.0.1:5000/user\")"
   ]
  },
  {
   "cell_type": "code",
   "execution_count": 19,
   "metadata": {},
   "outputs": [
    {
     "name": "stdout",
     "output_type": "stream",
     "text": [
      "{'company': 'ピタゴラ不動産', 'user_category1': '寿司', 'user_category2': '中華料理', 'user_category3': '郷土料理', 'user_name': '寺尾真二', 'working_area': '大阪'}\n"
     ]
    }
   ],
   "source": [
    "import requests\n",
    "import json\n",
    "\n",
    "data = {\"mail_address\": \"shinji@tech0.com\"}\n",
    "response = requests.get(\"http://127.0.0.1:5000/user\", params=data)\n",
    "\n",
    "# JSONとしてデコード\n",
    "decoded_response = json.loads(response.text)\n",
    "\n",
    "# 日本語文字列を表示\n",
    "print(decoded_response)"
   ]
  }
 ],
 "metadata": {
  "kernelspec": {
   "display_name": "Python 3",
   "language": "python",
   "name": "python3"
  },
  "language_info": {
   "codemirror_mode": {
    "name": "ipython",
    "version": 3
   },
   "file_extension": ".py",
   "mimetype": "text/x-python",
   "name": "python",
   "nbconvert_exporter": "python",
   "pygments_lexer": "ipython3",
   "version": "3.11.3"
  }
 },
 "nbformat": 4,
 "nbformat_minor": 2
}
